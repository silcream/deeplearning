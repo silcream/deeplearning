{
 "cells": [
  {
   "cell_type": "code",
   "execution_count": 1,
   "id": "4249df8a",
   "metadata": {},
   "outputs": [],
   "source": [
    "#p.153"
   ]
  },
  {
   "cell_type": "code",
   "execution_count": 2,
   "id": "aa836576",
   "metadata": {},
   "outputs": [],
   "source": [
    "from keras.datasets import imdb\n",
    "import numpy as np\n",
    "\n",
    "(train_data, train_labels), (test_data, test_labels) = imdb.load_data(num_words=10000)\n",
    "\n",
    "def vectorize_sequences(sequences, dimension=10000):\n",
    "    # 크기가 (len(sequences), dimension))이고 모든 원소가 0인 행렬을 만듭니다\n",
    "    results = np.zeros((len(sequences), dimension))\n",
    "    for i, sequence in enumerate(sequences):\n",
    "        results[i, sequence] = 1.  # results[i]에서 특정 인덱스의 위치를 1로 만듭니다\n",
    "    return results\n",
    "\n",
    "# 훈련 데이터를 벡터로 변환합니다\n",
    "x_train = vectorize_sequences(train_data)\n",
    "# 테스트 데이터를 벡터로 변환합니다\n",
    "x_test = vectorize_sequences(test_data)\n",
    "# 레이블을 벡터로 변환합니다\n",
    "y_train = np.asarray(train_labels).astype('float32')\n",
    "y_test = np.asarray(test_labels).astype('float32')"
   ]
  },
  {
   "cell_type": "code",
   "execution_count": 3,
   "id": "cb13acdd",
   "metadata": {},
   "outputs": [],
   "source": [
    "from keras import models\n",
    "from keras import layers"
   ]
  },
  {
   "cell_type": "code",
   "execution_count": 4,
   "id": "99a69bd2",
   "metadata": {},
   "outputs": [],
   "source": [
    "model = models.Sequential()\n",
    "model.add(layers.Dense(16, activation = 'relu', input_shape = (10000, )))\n",
    "model.add(layers.Dense(16, activation = 'relu'))\n",
    "model.add(layers.Dense(1, activation = 'sigmoid'))\n",
    "\n",
    "model.compile(optimizer='rmsprop',\n",
    "                       loss='binary_crossentropy',\n",
    "                       metrics=['acc'])"
   ]
  },
  {
   "cell_type": "code",
   "execution_count": 5,
   "id": "d50d4285",
   "metadata": {},
   "outputs": [],
   "source": [
    "smaller_model = models.Sequential()\n",
    "smaller_model.add(layers.Dense(6, activation='relu', input_shape=(10000,)))\n",
    "smaller_model.add(layers.Dense(6, activation='relu'))\n",
    "smaller_model.add(layers.Dense(1, activation='sigmoid'))\n",
    "\n",
    "smaller_model.compile(optimizer='rmsprop',\n",
    "                      loss='binary_crossentropy',\n",
    "                      metrics=['acc'])"
   ]
  },
  {
   "cell_type": "code",
   "execution_count": 6,
   "id": "782592b1",
   "metadata": {},
   "outputs": [
    {
     "name": "stdout",
     "output_type": "stream",
     "text": [
      "Epoch 1/20\n",
      "WARNING:tensorflow:AutoGraph could not transform <function Model.make_train_function.<locals>.train_function at 0x000001FD2273F948> and will run it as-is.\n",
      "Please report this to the TensorFlow team. When filing the bug, set the verbosity to 10 (on Linux, `export AUTOGRAPH_VERBOSITY=10`) and attach the full output.\n",
      "Cause: 'arguments' object has no attribute 'posonlyargs'\n",
      "To silence this warning, decorate the function with @tf.autograph.experimental.do_not_convert\n",
      "WARNING: AutoGraph could not transform <function Model.make_train_function.<locals>.train_function at 0x000001FD2273F948> and will run it as-is.\n",
      "Please report this to the TensorFlow team. When filing the bug, set the verbosity to 10 (on Linux, `export AUTOGRAPH_VERBOSITY=10`) and attach the full output.\n",
      "Cause: 'arguments' object has no attribute 'posonlyargs'\n",
      "To silence this warning, decorate the function with @tf.autograph.experimental.do_not_convert\n",
      "46/49 [===========================>..] - ETA: 0s - loss: 0.4589 - acc: 0.8144WARNING:tensorflow:AutoGraph could not transform <function Model.make_test_function.<locals>.test_function at 0x000001FD3097D678> and will run it as-is.\n",
      "Please report this to the TensorFlow team. When filing the bug, set the verbosity to 10 (on Linux, `export AUTOGRAPH_VERBOSITY=10`) and attach the full output.\n",
      "Cause: 'arguments' object has no attribute 'posonlyargs'\n",
      "To silence this warning, decorate the function with @tf.autograph.experimental.do_not_convert\n",
      "WARNING: AutoGraph could not transform <function Model.make_test_function.<locals>.test_function at 0x000001FD3097D678> and will run it as-is.\n",
      "Please report this to the TensorFlow team. When filing the bug, set the verbosity to 10 (on Linux, `export AUTOGRAPH_VERBOSITY=10`) and attach the full output.\n",
      "Cause: 'arguments' object has no attribute 'posonlyargs'\n",
      "To silence this warning, decorate the function with @tf.autograph.experimental.do_not_convert\n",
      "49/49 [==============================] - 3s 36ms/step - loss: 0.4511 - acc: 0.8182 - val_loss: 0.3334 - val_acc: 0.8800\n",
      "Epoch 2/20\n",
      "49/49 [==============================] - 1s 15ms/step - loss: 0.2567 - acc: 0.9100 - val_loss: 0.2960 - val_acc: 0.8819\n",
      "Epoch 3/20\n",
      "49/49 [==============================] - 1s 15ms/step - loss: 0.1980 - acc: 0.9302 - val_loss: 0.2866 - val_acc: 0.8868\n",
      "Epoch 4/20\n",
      "49/49 [==============================] - 1s 15ms/step - loss: 0.1679 - acc: 0.9403 - val_loss: 0.2920 - val_acc: 0.8853\n",
      "Epoch 5/20\n",
      "49/49 [==============================] - 1s 14ms/step - loss: 0.1457 - acc: 0.9488 - val_loss: 0.3104 - val_acc: 0.8802\n",
      "Epoch 6/20\n",
      "49/49 [==============================] - 1s 15ms/step - loss: 0.1299 - acc: 0.9545 - val_loss: 0.3609 - val_acc: 0.8674\n",
      "Epoch 7/20\n",
      "49/49 [==============================] - 1s 15ms/step - loss: 0.1150 - acc: 0.9606 - val_loss: 0.3897 - val_acc: 0.8636\n",
      "Epoch 8/20\n",
      "49/49 [==============================] - 1s 14ms/step - loss: 0.1034 - acc: 0.9654 - val_loss: 0.3791 - val_acc: 0.8694\n",
      "Epoch 9/20\n",
      "49/49 [==============================] - 1s 15ms/step - loss: 0.0928 - acc: 0.9683 - val_loss: 0.4595 - val_acc: 0.8533\n",
      "Epoch 10/20\n",
      "49/49 [==============================] - 1s 15ms/step - loss: 0.0819 - acc: 0.9733 - val_loss: 0.5028 - val_acc: 0.8505\n",
      "Epoch 11/20\n",
      "49/49 [==============================] - 1s 14ms/step - loss: 0.0769 - acc: 0.9739 - val_loss: 0.4613 - val_acc: 0.8624\n",
      "Epoch 12/20\n",
      "49/49 [==============================] - 1s 15ms/step - loss: 0.0692 - acc: 0.9774 - val_loss: 0.4919 - val_acc: 0.8588\n",
      "Epoch 13/20\n",
      "49/49 [==============================] - 1s 14ms/step - loss: 0.0612 - acc: 0.9812 - val_loss: 0.5233 - val_acc: 0.8565\n",
      "Epoch 14/20\n",
      "49/49 [==============================] - 1s 14ms/step - loss: 0.0551 - acc: 0.9832 - val_loss: 0.5587 - val_acc: 0.8552\n",
      "Epoch 15/20\n",
      "49/49 [==============================] - 1s 15ms/step - loss: 0.0487 - acc: 0.9848 - val_loss: 0.6750 - val_acc: 0.8425\n",
      "Epoch 16/20\n",
      "49/49 [==============================] - 1s 15ms/step - loss: 0.0406 - acc: 0.9882 - val_loss: 0.6541 - val_acc: 0.8479\n",
      "Epoch 17/20\n",
      "49/49 [==============================] - 1s 15ms/step - loss: 0.0403 - acc: 0.9878 - val_loss: 0.6671 - val_acc: 0.8487\n",
      "Epoch 18/20\n",
      "49/49 [==============================] - 1s 15ms/step - loss: 0.0324 - acc: 0.9912 - val_loss: 0.7089 - val_acc: 0.8476\n",
      "Epoch 19/20\n",
      "49/49 [==============================] - 1s 15ms/step - loss: 0.0301 - acc: 0.9916 - val_loss: 0.7338 - val_acc: 0.8473\n",
      "Epoch 20/20\n",
      "49/49 [==============================] - 1s 14ms/step - loss: 0.0280 - acc: 0.9924 - val_loss: 0.7810 - val_acc: 0.8456\n"
     ]
    }
   ],
   "source": [
    "original_hist = model.fit(x_train, y_train,\n",
    "                                   epochs=20,\n",
    "                                   batch_size=512,\n",
    "                                   validation_data=(x_test, y_test))"
   ]
  },
  {
   "cell_type": "code",
   "execution_count": 7,
   "id": "86c193b0",
   "metadata": {},
   "outputs": [
    {
     "name": "stdout",
     "output_type": "stream",
     "text": [
      "Epoch 1/20\n",
      "WARNING:tensorflow:AutoGraph could not transform <function Model.make_train_function.<locals>.train_function at 0x000001FD2C543C18> and will run it as-is.\n",
      "Please report this to the TensorFlow team. When filing the bug, set the verbosity to 10 (on Linux, `export AUTOGRAPH_VERBOSITY=10`) and attach the full output.\n",
      "Cause: 'arguments' object has no attribute 'posonlyargs'\n",
      "To silence this warning, decorate the function with @tf.autograph.experimental.do_not_convert\n",
      "WARNING: AutoGraph could not transform <function Model.make_train_function.<locals>.train_function at 0x000001FD2C543C18> and will run it as-is.\n",
      "Please report this to the TensorFlow team. When filing the bug, set the verbosity to 10 (on Linux, `export AUTOGRAPH_VERBOSITY=10`) and attach the full output.\n",
      "Cause: 'arguments' object has no attribute 'posonlyargs'\n",
      "To silence this warning, decorate the function with @tf.autograph.experimental.do_not_convert\n",
      "49/49 [==============================] - ETA: 0s - loss: 0.5333 - acc: 0.7944WARNING:tensorflow:AutoGraph could not transform <function Model.make_test_function.<locals>.test_function at 0x000001FD29EA54C8> and will run it as-is.\n",
      "Please report this to the TensorFlow team. When filing the bug, set the verbosity to 10 (on Linux, `export AUTOGRAPH_VERBOSITY=10`) and attach the full output.\n",
      "Cause: 'arguments' object has no attribute 'posonlyargs'\n",
      "To silence this warning, decorate the function with @tf.autograph.experimental.do_not_convert\n",
      "WARNING: AutoGraph could not transform <function Model.make_test_function.<locals>.test_function at 0x000001FD29EA54C8> and will run it as-is.\n",
      "Please report this to the TensorFlow team. When filing the bug, set the verbosity to 10 (on Linux, `export AUTOGRAPH_VERBOSITY=10`) and attach the full output.\n",
      "Cause: 'arguments' object has no attribute 'posonlyargs'\n",
      "To silence this warning, decorate the function with @tf.autograph.experimental.do_not_convert\n",
      "49/49 [==============================] - 2s 33ms/step - loss: 0.5333 - acc: 0.7944 - val_loss: 0.4354 - val_acc: 0.8634\n",
      "Epoch 2/20\n",
      "49/49 [==============================] - 1s 15ms/step - loss: 0.3529 - acc: 0.8955 - val_loss: 0.3403 - val_acc: 0.8842\n",
      "Epoch 3/20\n",
      "49/49 [==============================] - 1s 15ms/step - loss: 0.2692 - acc: 0.9147 - val_loss: 0.3074 - val_acc: 0.8819\n",
      "Epoch 4/20\n",
      "49/49 [==============================] - 1s 15ms/step - loss: 0.2223 - acc: 0.9257 - val_loss: 0.2825 - val_acc: 0.8913\n",
      "Epoch 5/20\n",
      "49/49 [==============================] - 1s 15ms/step - loss: 0.1932 - acc: 0.9346 - val_loss: 0.2790 - val_acc: 0.8900\n",
      "Epoch 6/20\n",
      "49/49 [==============================] - 1s 15ms/step - loss: 0.1709 - acc: 0.9418 - val_loss: 0.2856 - val_acc: 0.8847\n",
      "Epoch 7/20\n",
      "49/49 [==============================] - 1s 15ms/step - loss: 0.1542 - acc: 0.9479 - val_loss: 0.2931 - val_acc: 0.8831\n",
      "Epoch 8/20\n",
      "49/49 [==============================] - 1s 14ms/step - loss: 0.1400 - acc: 0.9536 - val_loss: 0.3013 - val_acc: 0.8816\n",
      "Epoch 9/20\n",
      "49/49 [==============================] - 1s 15ms/step - loss: 0.1283 - acc: 0.9576 - val_loss: 0.3166 - val_acc: 0.8791\n",
      "Epoch 10/20\n",
      "49/49 [==============================] - 1s 15ms/step - loss: 0.1169 - acc: 0.9626 - val_loss: 0.3292 - val_acc: 0.8761\n",
      "Epoch 11/20\n",
      "49/49 [==============================] - 1s 14ms/step - loss: 0.1086 - acc: 0.9650 - val_loss: 0.3412 - val_acc: 0.8754\n",
      "Epoch 12/20\n",
      "49/49 [==============================] - 1s 15ms/step - loss: 0.0999 - acc: 0.9689 - val_loss: 0.3693 - val_acc: 0.8692\n",
      "Epoch 13/20\n",
      "49/49 [==============================] - 1s 15ms/step - loss: 0.0923 - acc: 0.9705 - val_loss: 0.3742 - val_acc: 0.8707\n",
      "Epoch 14/20\n",
      "49/49 [==============================] - 1s 15ms/step - loss: 0.0855 - acc: 0.9738 - val_loss: 0.4013 - val_acc: 0.8660\n",
      "Epoch 15/20\n",
      "49/49 [==============================] - 1s 15ms/step - loss: 0.0799 - acc: 0.9755 - val_loss: 0.4139 - val_acc: 0.8657\n",
      "Epoch 16/20\n",
      "49/49 [==============================] - 1s 15ms/step - loss: 0.0732 - acc: 0.9788 - val_loss: 0.4404 - val_acc: 0.8625\n",
      "Epoch 17/20\n",
      "49/49 [==============================] - 1s 15ms/step - loss: 0.0678 - acc: 0.9802 - val_loss: 0.4502 - val_acc: 0.8636\n",
      "Epoch 18/20\n",
      "49/49 [==============================] - 1s 14ms/step - loss: 0.0621 - acc: 0.9825 - val_loss: 0.4734 - val_acc: 0.8615\n",
      "Epoch 19/20\n",
      "49/49 [==============================] - 1s 15ms/step - loss: 0.0575 - acc: 0.9838 - val_loss: 0.4979 - val_acc: 0.8598\n",
      "Epoch 20/20\n",
      "49/49 [==============================] - 1s 14ms/step - loss: 0.0535 - acc: 0.9850 - val_loss: 0.5502 - val_acc: 0.8526\n"
     ]
    }
   ],
   "source": [
    "smaller_model_hist = smaller_model.fit(x_train, y_train,\n",
    "                                       epochs=20,\n",
    "                                       batch_size=512,\n",
    "                                       validation_data=(x_test, y_test))"
   ]
  },
  {
   "cell_type": "code",
   "execution_count": 8,
   "id": "1ff00d69",
   "metadata": {},
   "outputs": [],
   "source": [
    "epochs = range(1, 21)\n",
    "original_val_loss = original_hist.history['val_loss']\n",
    "smaller_model_val_loss = smaller_model_hist.history['val_loss']"
   ]
  },
  {
   "cell_type": "code",
   "execution_count": 9,
   "id": "6a666629",
   "metadata": {},
   "outputs": [],
   "source": [
    "import matplotlib.pyplot as plt"
   ]
  },
  {
   "cell_type": "code",
   "execution_count": 10,
   "id": "42f10c33",
   "metadata": {},
   "outputs": [
    {
     "data": {
      "image/png": "[encoded data removed]",
      "text/plain": [
       "<Figure size 432x288 with 1 Axes>"
      ]
     },
     "metadata": {
      "needs_background": "light"
     },
     "output_type": "display_data"
    }
   ],
   "source": [
    "# ‘b+’는 파란색 덧셈 기호을 의미합니다\n",
    "plt.plot(epochs, original_val_loss, 'b+', label='Original model')\n",
    "# ‘bo’는 파란색 점을 의미합니다\n",
    "plt.plot(epochs, smaller_model_val_loss, 'bo', label='Smaller model')\n",
    "plt.xlabel('Epochs')\n",
    "plt.ylabel('Validation loss')\n",
    "plt.legend()\n",
    "\n",
    "plt.show()\n",
    "#작은  네트워크가 기본 네트워크보다 더 나중에 과대적합됨"
   ]
  },
  {
   "cell_type": "code",
   "execution_count": 11,
   "id": "3410a808",
   "metadata": {},
   "outputs": [],
   "source": [
    "bigger_model = models.Sequential()\n",
    "bigger_model.add(layers.Dense(1024, activation='relu', input_shape=(10000,)))\n",
    "bigger_model.add(layers.Dense(1024, activation='relu'))\n",
    "bigger_model.add(layers.Dense(1, activation='sigmoid'))\n",
    "\n",
    "bigger_model.compile(optimizer='rmsprop',\n",
    "                     loss='binary_crossentropy',\n",
    "                     metrics=['acc'])"
   ]
  },
  {
   "cell_type": "code",
   "execution_count": 12,
   "id": "ca44d418",
   "metadata": {},
   "outputs": [
    {
     "name": "stdout",
     "output_type": "stream",
     "text": [
      "Epoch 1/20\n",
      "WARNING:tensorflow:AutoGraph could not transform <function Model.make_train_function.<locals>.train_function at 0x000001FD25633B88> and will run it as-is.\n",
      "Please report this to the TensorFlow team. When filing the bug, set the verbosity to 10 (on Linux, `export AUTOGRAPH_VERBOSITY=10`) and attach the full output.\n",
      "Cause: 'arguments' object has no attribute 'posonlyargs'\n",
      "To silence this warning, decorate the function with @tf.autograph.experimental.do_not_convert\n",
      "WARNING: AutoGraph could not transform <function Model.make_train_function.<locals>.train_function at 0x000001FD25633B88> and will run it as-is.\n",
      "Please report this to the TensorFlow team. When filing the bug, set the verbosity to 10 (on Linux, `export AUTOGRAPH_VERBOSITY=10`) and attach the full output.\n",
      "Cause: 'arguments' object has no attribute 'posonlyargs'\n",
      "To silence this warning, decorate the function with @tf.autograph.experimental.do_not_convert\n",
      "46/49 [===========================>..] - ETA: 0s - loss: 0.5257 - acc: 0.7838WARNING:tensorflow:AutoGraph could not transform <function Model.make_test_function.<locals>.test_function at 0x000001FD2DB3B9D8> and will run it as-is.\n",
      "Please report this to the TensorFlow team. When filing the bug, set the verbosity to 10 (on Linux, `export AUTOGRAPH_VERBOSITY=10`) and attach the full output.\n",
      "Cause: 'arguments' object has no attribute 'posonlyargs'\n",
      "To silence this warning, decorate the function with @tf.autograph.experimental.do_not_convert\n",
      "WARNING: AutoGraph could not transform <function Model.make_test_function.<locals>.test_function at 0x000001FD2DB3B9D8> and will run it as-is.\n",
      "Please report this to the TensorFlow team. When filing the bug, set the verbosity to 10 (on Linux, `export AUTOGRAPH_VERBOSITY=10`) and attach the full output.\n",
      "Cause: 'arguments' object has no attribute 'posonlyargs'\n",
      "To silence this warning, decorate the function with @tf.autograph.experimental.do_not_convert\n",
      "49/49 [==============================] - 2s 36ms/step - loss: 0.5102 - acc: 0.7900 - val_loss: 0.2905 - val_acc: 0.8805\n",
      "Epoch 2/20\n",
      "49/49 [==============================] - 1s 19ms/step - loss: 0.2260 - acc: 0.9090 - val_loss: 0.2713 - val_acc: 0.8886\n",
      "Epoch 3/20\n",
      "49/49 [==============================] - 1s 19ms/step - loss: 0.1196 - acc: 0.9542 - val_loss: 0.3022 - val_acc: 0.8875\n",
      "Epoch 4/20\n",
      "49/49 [==============================] - 1s 19ms/step - loss: 0.0491 - acc: 0.9854 - val_loss: 0.4578 - val_acc: 0.8835\n",
      "Epoch 5/20\n",
      "49/49 [==============================] - 1s 19ms/step - loss: 0.1197 - acc: 0.9849 - val_loss: 0.3937 - val_acc: 0.8812\n",
      "Epoch 6/20\n",
      "49/49 [==============================] - 1s 19ms/step - loss: 0.0012 - acc: 1.0000 - val_loss: 0.6211 - val_acc: 0.8857\n",
      "Epoch 7/20\n",
      "49/49 [==============================] - 1s 19ms/step - loss: 8.1081e-05 - acc: 1.0000 - val_loss: 0.7525 - val_acc: 0.8850\n",
      "Epoch 8/20\n",
      "49/49 [==============================] - 1s 19ms/step - loss: 0.1930 - acc: 0.9873 - val_loss: 0.5916 - val_acc: 0.8796\n",
      "Epoch 9/20\n",
      "49/49 [==============================] - 1s 19ms/step - loss: 9.0821e-05 - acc: 1.0000 - val_loss: 0.6988 - val_acc: 0.8849\n",
      "Epoch 10/20\n",
      "49/49 [==============================] - 1s 19ms/step - loss: 1.0608e-05 - acc: 1.0000 - val_loss: 0.7771 - val_acc: 0.8848\n",
      "Epoch 11/20\n",
      "49/49 [==============================] - 1s 19ms/step - loss: 2.8235e-06 - acc: 1.0000 - val_loss: 0.8837 - val_acc: 0.8849\n",
      "Epoch 12/20\n",
      "49/49 [==============================] - 1s 19ms/step - loss: 5.9875e-07 - acc: 1.0000 - val_loss: 1.0113 - val_acc: 0.8851\n",
      "Epoch 13/20\n",
      "49/49 [==============================] - 1s 19ms/step - loss: 1.2530e-07 - acc: 1.0000 - val_loss: 1.1290 - val_acc: 0.8850\n",
      "Epoch 14/20\n",
      "49/49 [==============================] - 1s 19ms/step - loss: 3.3668e-08 - acc: 1.0000 - val_loss: 1.2105 - val_acc: 0.8846\n",
      "Epoch 15/20\n",
      "49/49 [==============================] - 1s 19ms/step - loss: 1.5049e-08 - acc: 1.0000 - val_loss: 1.2534 - val_acc: 0.8848\n",
      "Epoch 16/20\n",
      "49/49 [==============================] - 1s 19ms/step - loss: 9.4301e-09 - acc: 1.0000 - val_loss: 1.2806 - val_acc: 0.8849\n",
      "Epoch 17/20\n",
      "49/49 [==============================] - 1s 19ms/step - loss: 6.9391e-09 - acc: 1.0000 - val_loss: 1.2987 - val_acc: 0.8848\n",
      "Epoch 18/20\n",
      "49/49 [==============================] - 1s 19ms/step - loss: 5.4923e-09 - acc: 1.0000 - val_loss: 1.3145 - val_acc: 0.8849\n",
      "Epoch 19/20\n",
      "49/49 [==============================] - 1s 19ms/step - loss: 4.5898e-09 - acc: 1.0000 - val_loss: 1.3256 - val_acc: 0.8849\n",
      "Epoch 20/20\n",
      "49/49 [==============================] - 1s 18ms/step - loss: 3.9399e-09 - acc: 1.0000 - val_loss: 1.3355 - val_acc: 0.8849\n"
     ]
    }
   ],
   "source": [
    "bigger_model_hist = bigger_model.fit(x_train, y_train,\n",
    "                                     epochs=20,\n",
    "                                     batch_size=512,\n",
    "                                     validation_data=(x_test, y_test))"
   ]
  },
  {
   "cell_type": "code",
   "execution_count": 13,
   "id": "bacd5a68",
   "metadata": {},
   "outputs": [
    {
     "data": {
      "image/png": "[encoded data removed]",
      "text/plain": [
       "<Figure size 432x288 with 1 Axes>"
      ]
     },
     "metadata": {
      "needs_background": "light"
     },
     "output_type": "display_data"
    }
   ],
   "source": [
    "bigger_model_val_loss = bigger_model_hist.history['val_loss']\n",
    "\n",
    "plt.plot(epochs, original_val_loss, 'b+', label='Original model')\n",
    "plt.plot(epochs, bigger_model_val_loss, 'bo', label='Bigger model')\n",
    "plt.xlabel('Epochs')\n",
    "plt.ylabel('Validation loss')\n",
    "plt.legend()\n",
    "\n",
    "plt.show()\n",
    "#용량 큰 네트워크는 거의ㅣ 바로 과대적합 시작, 갈수록 더 심해짐 / 검증손실도 매우 불안정"
   ]
  },
  {
   "cell_type": "code",
   "execution_count": 14,
   "id": "b9df0cca",
   "metadata": {},
   "outputs": [
    {
     "data": {
      "image/png": "[encoded data removed]",
      "text/plain": [
       "<Figure size 432x288 with 1 Axes>"
      ]
     },
     "metadata": {
      "needs_background": "light"
     },
     "output_type": "display_data"
    }
   ],
   "source": [
    "#두 네트워크의 훈련손실\n",
    "original_train_loss = original_hist.history['loss']\n",
    "bigger_model_train_loss = bigger_model_hist.history['loss']\n",
    "\n",
    "plt.plot(epochs, original_train_loss, 'b+', label='Original model')\n",
    "plt.plot(epochs, bigger_model_train_loss, 'bo', label='Bigger model')\n",
    "plt.xlabel('Epochs')\n",
    "plt.ylabel('Training loss')\n",
    "plt.legend()\n",
    "\n",
    "plt.show()\n",
    "\n",
    "#용량이 큰 네트워크는 훈련손실이 매우 빠르게 0에 가까워짐"
   ]
  },
  {
   "cell_type": "markdown",
   "id": "26f5652f",
   "metadata": {},
   "source": [
    "# 규제"
   ]
  },
  {
   "cell_type": "code",
   "execution_count": 15,
   "id": "fefd94e3",
   "metadata": {},
   "outputs": [],
   "source": [
    "from keras import regularizers\n",
    "\n",
    "l2_model = models.Sequential()\n",
    "l2_model.add(layers.Dense(16, kernel_regularizer=regularizers.l2(0.001),\n",
    "                          activation='relu', input_shape=(10000,)))\n",
    "l2_model.add(layers.Dense(16, kernel_regularizer=regularizers.l2(0.001),\n",
    "                          activation='relu'))\n",
    "l2_model.add(layers.Dense(1, activation='sigmoid'))\n",
    "l2_model.compile(optimizer='rmsprop',\n",
    "                 loss='binary_crossentropy',\n",
    "                 metrics=['acc'])"
   ]
  },
  {
   "cell_type": "code",
   "execution_count": 16,
   "id": "1e7b2df0",
   "metadata": {},
   "outputs": [
    {
     "name": "stdout",
     "output_type": "stream",
     "text": [
      "Epoch 1/20\n",
      "WARNING:tensorflow:AutoGraph could not transform <function Model.make_train_function.<locals>.train_function at 0x000001FD25665798> and will run it as-is.\n",
      "Please report this to the TensorFlow team. When filing the bug, set the verbosity to 10 (on Linux, `export AUTOGRAPH_VERBOSITY=10`) and attach the full output.\n",
      "Cause: 'arguments' object has no attribute 'posonlyargs'\n",
      "To silence this warning, decorate the function with @tf.autograph.experimental.do_not_convert\n",
      "WARNING: AutoGraph could not transform <function Model.make_train_function.<locals>.train_function at 0x000001FD25665798> and will run it as-is.\n",
      "Please report this to the TensorFlow team. When filing the bug, set the verbosity to 10 (on Linux, `export AUTOGRAPH_VERBOSITY=10`) and attach the full output.\n",
      "Cause: 'arguments' object has no attribute 'posonlyargs'\n",
      "To silence this warning, decorate the function with @tf.autograph.experimental.do_not_convert\n",
      "43/49 [=========================>....] - ETA: 0s - loss: 0.5394 - acc: 0.8183WARNING:tensorflow:AutoGraph could not transform <function Model.make_test_function.<locals>.test_function at 0x000001FD253469D8> and will run it as-is.\n",
      "Please report this to the TensorFlow team. When filing the bug, set the verbosity to 10 (on Linux, `export AUTOGRAPH_VERBOSITY=10`) and attach the full output.\n",
      "Cause: 'arguments' object has no attribute 'posonlyargs'\n",
      "To silence this warning, decorate the function with @tf.autograph.experimental.do_not_convert\n",
      "WARNING: AutoGraph could not transform <function Model.make_test_function.<locals>.test_function at 0x000001FD253469D8> and will run it as-is.\n",
      "Please report this to the TensorFlow team. When filing the bug, set the verbosity to 10 (on Linux, `export AUTOGRAPH_VERBOSITY=10`) and attach the full output.\n",
      "Cause: 'arguments' object has no attribute 'posonlyargs'\n",
      "To silence this warning, decorate the function with @tf.autograph.experimental.do_not_convert\n",
      "49/49 [==============================] - 2s 36ms/step - loss: 0.5235 - acc: 0.8253 - val_loss: 0.4145 - val_acc: 0.8674\n",
      "Epoch 2/20\n",
      "49/49 [==============================] - 1s 15ms/step - loss: 0.3376 - acc: 0.8993 - val_loss: 0.3461 - val_acc: 0.8846\n",
      "Epoch 3/20\n",
      "49/49 [==============================] - 1s 15ms/step - loss: 0.2833 - acc: 0.9159 - val_loss: 0.3296 - val_acc: 0.8886\n",
      "Epoch 4/20\n",
      "49/49 [==============================] - 1s 15ms/step - loss: 0.2611 - acc: 0.9234 - val_loss: 0.3280 - val_acc: 0.8892\n",
      "Epoch 5/20\n",
      "49/49 [==============================] - 1s 15ms/step - loss: 0.2452 - acc: 0.9296 - val_loss: 0.3317 - val_acc: 0.8864\n",
      "Epoch 6/20\n",
      "49/49 [==============================] - 1s 15ms/step - loss: 0.2353 - acc: 0.9348 - val_loss: 0.3438 - val_acc: 0.8817\n",
      "Epoch 7/20\n",
      "49/49 [==============================] - 1s 15ms/step - loss: 0.2260 - acc: 0.9382 - val_loss: 0.3535 - val_acc: 0.8798\n",
      "Epoch 8/20\n",
      "49/49 [==============================] - 1s 15ms/step - loss: 0.2196 - acc: 0.9414 - val_loss: 0.3588 - val_acc: 0.8788\n",
      "Epoch 9/20\n",
      "49/49 [==============================] - 1s 15ms/step - loss: 0.2148 - acc: 0.9427 - val_loss: 0.3749 - val_acc: 0.8735\n",
      "Epoch 10/20\n",
      "49/49 [==============================] - 1s 15ms/step - loss: 0.2075 - acc: 0.9470 - val_loss: 0.3621 - val_acc: 0.8782\n",
      "Epoch 11/20\n",
      "49/49 [==============================] - 1s 15ms/step - loss: 0.2055 - acc: 0.9475 - val_loss: 0.3853 - val_acc: 0.8717\n",
      "Epoch 12/20\n",
      "49/49 [==============================] - 1s 15ms/step - loss: 0.2009 - acc: 0.9482 - val_loss: 0.3889 - val_acc: 0.8714\n",
      "Epoch 13/20\n",
      "49/49 [==============================] - 1s 15ms/step - loss: 0.1972 - acc: 0.9500 - val_loss: 0.3878 - val_acc: 0.8726\n",
      "Epoch 14/20\n",
      "49/49 [==============================] - 1s 15ms/step - loss: 0.1912 - acc: 0.9528 - val_loss: 0.3899 - val_acc: 0.8727\n",
      "Epoch 15/20\n",
      "49/49 [==============================] - 1s 15ms/step - loss: 0.1915 - acc: 0.9511 - val_loss: 0.3964 - val_acc: 0.8724\n",
      "Epoch 16/20\n",
      "49/49 [==============================] - 1s 15ms/step - loss: 0.1855 - acc: 0.9538 - val_loss: 0.3926 - val_acc: 0.8739\n",
      "Epoch 17/20\n",
      "49/49 [==============================] - 1s 15ms/step - loss: 0.1829 - acc: 0.9558 - val_loss: 0.4372 - val_acc: 0.8611\n",
      "Epoch 18/20\n",
      "49/49 [==============================] - 1s 15ms/step - loss: 0.1834 - acc: 0.9558 - val_loss: 0.3990 - val_acc: 0.8720\n",
      "Epoch 19/20\n",
      "49/49 [==============================] - 1s 15ms/step - loss: 0.1739 - acc: 0.9597 - val_loss: 0.4201 - val_acc: 0.8680\n",
      "Epoch 20/20\n",
      "49/49 [==============================] - 1s 14ms/step - loss: 0.1714 - acc: 0.9616 - val_loss: 0.4201 - val_acc: 0.8691\n"
     ]
    }
   ],
   "source": [
    "l2_model_hist = l2_model.fit(x_train, y_train,\n",
    "                             epochs=20,\n",
    "                             batch_size=512,\n",
    "                             validation_data=(x_test, y_test))"
   ]
  },
  {
   "cell_type": "code",
   "execution_count": 17,
   "id": "3f167ab8",
   "metadata": {},
   "outputs": [
    {
     "data": {
      "image/png": "[encoded data removed]",
      "text/plain": [
       "<Figure size 432x288 with 1 Axes>"
      ]
     },
     "metadata": {
      "needs_background": "light"
     },
     "output_type": "display_data"
    }
   ],
   "source": [
    "l2_model_val_loss = l2_model_hist.history['val_loss']\n",
    "\n",
    "plt.plot(epochs, original_val_loss, 'b+', label='Original model')\n",
    "plt.plot(epochs, l2_model_val_loss, 'bo', label='L2-regularized model')\n",
    "plt.xlabel('Epochs')\n",
    "plt.ylabel('Validation loss')\n",
    "plt.legend()\n",
    "\n",
    "plt.show()"
   ]
  },
  {
   "cell_type": "markdown",
   "id": "ec00f239",
   "metadata": {},
   "source": [
    "# 드롭아웃"
   ]
  },
  {
   "cell_type": "code",
   "execution_count": 18,
   "id": "9385238f",
   "metadata": {},
   "outputs": [],
   "source": [
    "dpt_model = models.Sequential()\n",
    "dpt_model.add(layers.Dense(16, activation='relu', input_shape=(10000,)))\n",
    "dpt_model.add(layers.Dropout(0.5))\n",
    "dpt_model.add(layers.Dense(16, activation='relu'))\n",
    "dpt_model.add(layers.Dropout(0.5))\n",
    "dpt_model.add(layers.Dense(1, activation='sigmoid'))\n",
    "\n",
    "dpt_model.compile(optimizer='rmsprop',\n",
    "                  loss='binary_crossentropy',\n",
    "                  metrics=['acc'])"
   ]
  },
  {
   "cell_type": "code",
   "execution_count": 19,
   "id": "ddf3b965",
   "metadata": {},
   "outputs": [
    {
     "name": "stdout",
     "output_type": "stream",
     "text": [
      "Epoch 1/20\n",
      "WARNING:tensorflow:AutoGraph could not transform <function Model.make_train_function.<locals>.train_function at 0x000001FD25970EE8> and will run it as-is.\n",
      "Please report this to the TensorFlow team. When filing the bug, set the verbosity to 10 (on Linux, `export AUTOGRAPH_VERBOSITY=10`) and attach the full output.\n",
      "Cause: 'arguments' object has no attribute 'posonlyargs'\n",
      "To silence this warning, decorate the function with @tf.autograph.experimental.do_not_convert\n",
      "WARNING: AutoGraph could not transform <function Model.make_train_function.<locals>.train_function at 0x000001FD25970EE8> and will run it as-is.\n",
      "Please report this to the TensorFlow team. When filing the bug, set the verbosity to 10 (on Linux, `export AUTOGRAPH_VERBOSITY=10`) and attach the full output.\n",
      "Cause: 'arguments' object has no attribute 'posonlyargs'\n",
      "To silence this warning, decorate the function with @tf.autograph.experimental.do_not_convert\n",
      "45/49 [==========================>...] - ETA: 0s - loss: 0.6359 - acc: 0.6340WARNING:tensorflow:AutoGraph could not transform <function Model.make_test_function.<locals>.test_function at 0x000001FD25B5CD38> and will run it as-is.\n",
      "Please report this to the TensorFlow team. When filing the bug, set the verbosity to 10 (on Linux, `export AUTOGRAPH_VERBOSITY=10`) and attach the full output.\n",
      "Cause: 'arguments' object has no attribute 'posonlyargs'\n",
      "To silence this warning, decorate the function with @tf.autograph.experimental.do_not_convert\n",
      "WARNING: AutoGraph could not transform <function Model.make_test_function.<locals>.test_function at 0x000001FD25B5CD38> and will run it as-is.\n",
      "Please report this to the TensorFlow team. When filing the bug, set the verbosity to 10 (on Linux, `export AUTOGRAPH_VERBOSITY=10`) and attach the full output.\n",
      "Cause: 'arguments' object has no attribute 'posonlyargs'\n",
      "To silence this warning, decorate the function with @tf.autograph.experimental.do_not_convert\n",
      "49/49 [==============================] - 2s 34ms/step - loss: 0.6310 - acc: 0.6410 - val_loss: 0.5111 - val_acc: 0.8501\n",
      "Epoch 2/20\n",
      "49/49 [==============================] - 1s 15ms/step - loss: 0.4863 - acc: 0.7835 - val_loss: 0.3700 - val_acc: 0.8785\n",
      "Epoch 3/20\n",
      "49/49 [==============================] - 1s 15ms/step - loss: 0.3854 - acc: 0.8465 - val_loss: 0.3088 - val_acc: 0.8864\n",
      "Epoch 4/20\n",
      "49/49 [==============================] - 1s 15ms/step - loss: 0.3198 - acc: 0.8808 - val_loss: 0.2831 - val_acc: 0.8896\n",
      "Epoch 5/20\n",
      "49/49 [==============================] - 1s 15ms/step - loss: 0.2784 - acc: 0.9017 - val_loss: 0.2847 - val_acc: 0.8885\n",
      "Epoch 6/20\n",
      "49/49 [==============================] - 1s 15ms/step - loss: 0.2387 - acc: 0.9182 - val_loss: 0.2932 - val_acc: 0.8829\n",
      "Epoch 7/20\n",
      "49/49 [==============================] - 1s 15ms/step - loss: 0.2189 - acc: 0.9265 - val_loss: 0.2885 - val_acc: 0.8870\n",
      "Epoch 8/20\n",
      "49/49 [==============================] - 1s 15ms/step - loss: 0.1959 - acc: 0.9320 - val_loss: 0.3178 - val_acc: 0.8866\n",
      "Epoch 9/20\n",
      "49/49 [==============================] - 1s 15ms/step - loss: 0.1797 - acc: 0.9385 - val_loss: 0.3316 - val_acc: 0.8840\n",
      "Epoch 10/20\n",
      "49/49 [==============================] - 1s 15ms/step - loss: 0.1640 - acc: 0.9450 - val_loss: 0.3650 - val_acc: 0.8833\n",
      "Epoch 11/20\n",
      "49/49 [==============================] - 1s 15ms/step - loss: 0.1585 - acc: 0.9468 - val_loss: 0.3782 - val_acc: 0.8823\n",
      "Epoch 12/20\n",
      "49/49 [==============================] - 1s 15ms/step - loss: 0.1426 - acc: 0.9508 - val_loss: 0.4135 - val_acc: 0.8824\n",
      "Epoch 13/20\n",
      "49/49 [==============================] - 1s 15ms/step - loss: 0.1345 - acc: 0.9530 - val_loss: 0.4368 - val_acc: 0.8763\n",
      "Epoch 14/20\n",
      "49/49 [==============================] - 1s 15ms/step - loss: 0.1275 - acc: 0.9569 - val_loss: 0.4536 - val_acc: 0.8785\n",
      "Epoch 15/20\n",
      "49/49 [==============================] - 1s 15ms/step - loss: 0.1251 - acc: 0.9578 - val_loss: 0.4697 - val_acc: 0.8773\n",
      "Epoch 16/20\n",
      "49/49 [==============================] - 1s 15ms/step - loss: 0.1196 - acc: 0.9581 - val_loss: 0.5024 - val_acc: 0.8768\n",
      "Epoch 17/20\n",
      "49/49 [==============================] - 1s 15ms/step - loss: 0.1167 - acc: 0.9597 - val_loss: 0.5211 - val_acc: 0.8741\n",
      "Epoch 18/20\n",
      "49/49 [==============================] - 1s 15ms/step - loss: 0.1153 - acc: 0.9597 - val_loss: 0.5533 - val_acc: 0.8741\n",
      "Epoch 19/20\n",
      "49/49 [==============================] - 1s 15ms/step - loss: 0.1146 - acc: 0.9600 - val_loss: 0.5559 - val_acc: 0.8748\n",
      "Epoch 20/20\n",
      "49/49 [==============================] - 1s 14ms/step - loss: 0.1085 - acc: 0.9614 - val_loss: 0.5703 - val_acc: 0.8734\n"
     ]
    }
   ],
   "source": [
    "dpt_model_hist = dpt_model.fit(x_train, y_train,\n",
    "                               epochs=20,\n",
    "                               batch_size=512,\n",
    "                               validation_data=(x_test, y_test))"
   ]
  },
  {
   "cell_type": "code",
   "execution_count": 20,
   "id": "dacc2542",
   "metadata": {},
   "outputs": [
    {
     "data": {
      "image/png": "[encoded data removed]",
      "text/plain": [
       "<Figure size 432x288 with 1 Axes>"
      ]
     },
     "metadata": {
      "needs_background": "light"
     },
     "output_type": "display_data"
    }
   ],
   "source": [
    "dpt_model_val_loss = dpt_model_hist.history['val_loss']\n",
    "\n",
    "plt.plot(epochs, original_val_loss, 'b+', label='Original model')\n",
    "plt.plot(epochs, dpt_model_val_loss, 'bo', label='Dropout-regularized model')\n",
    "plt.xlabel('Epochs')\n",
    "plt.ylabel('Validation loss')\n",
    "plt.legend()\n",
    "\n",
    "plt.show()"
   ]
  },
  {
   "cell_type": "code",
   "execution_count": null,
   "id": "1aef8dc2",
   "metadata": {},
   "outputs": [],
   "source": []
  }
 ],
 "metadata": {
  "kernelspec": {
   "display_name": "sseun",
   "language": "python",
   "name": "seun"
  },
  "language_info": {
   "codemirror_mode": {
    "name": "ipython",
    "version": 3
   },
   "file_extension": ".py",
   "mimetype": "text/x-python",
   "name": "python",
   "nbconvert_exporter": "python",
   "pygments_lexer": "ipython3",
   "version": "3.7.10"
  }
 },
 "nbformat": 4,
 "nbformat_minor": 5
}
