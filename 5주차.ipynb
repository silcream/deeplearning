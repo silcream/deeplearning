{
 "cells": [
  {
   "cell_type": "code",
   "execution_count": 1,
   "id": "a55680a4",
   "metadata": {},
   "outputs": [],
   "source": [
    "from sklearn.linear_model import Perceptron\n",
    "from sklearn.neural_network import MLPClassifier"
   ]
  },
  {
   "cell_type": "code",
   "execution_count": 2,
   "id": "685d7c25",
   "metadata": {},
   "outputs": [],
   "source": [
    "X = [[0, 0], [0, 1], [1, 0], [1, 1]]\n",
    "y = [-1, 1, 1, 1]"
   ]
  },
  {
   "cell_type": "code",
   "execution_count": 3,
   "id": "40f2e43f",
   "metadata": {},
   "outputs": [],
   "source": [
    "p = MLPClassifier(hidden_layer_sizes=(9, 9))"
   ]
  },
  {
   "cell_type": "code",
   "execution_count": 4,
   "id": "ad46bd2b",
   "metadata": {},
   "outputs": [
    {
     "name": "stderr",
     "output_type": "stream",
     "text": [
      "C:\\Users\\Flora\\anaconda3\\envs\\silcream\\lib\\site-packages\\sklearn\\neural_network\\_multilayer_perceptron.py:696: ConvergenceWarning: Stochastic Optimizer: Maximum iterations (200) reached and the optimization hasn't converged yet.\n",
      "  ConvergenceWarning,\n"
     ]
    },
    {
     "data": {
      "text/plain": [
       "MLPClassifier(hidden_layer_sizes=(9, 9))"
      ]
     },
     "execution_count": 4,
     "metadata": {},
     "output_type": "execute_result"
    }
   ],
   "source": [
    "p.fit(X, y)"
   ]
  },
  {
   "cell_type": "code",
   "execution_count": 5,
   "id": "84b9ff4f",
   "metadata": {},
   "outputs": [
    {
     "name": "stdout",
     "output_type": "stream",
     "text": [
      "훈련집합에 대한 예측 :  [1 1 1 1]\n",
      "정활률 측정 :  75.0 %\n"
     ]
    }
   ],
   "source": [
    "# print('학습된 퍼셉트론의 매개변수 : ', p.coef_, p.intercept_)\n",
    "print('훈련집합에 대한 예측 : ', p.predict(X))\n",
    "print('정활률 측정 : ', p.score(X, y)*100, '%')"
   ]
  },
  {
   "cell_type": "code",
   "execution_count": 7,
   "id": "e7311c41",
   "metadata": {},
   "outputs": [],
   "source": [
    "X1 = [[170, 80], [175, 76], [180, 70], [160, 55], [163, 43], [165, 48]]\n",
    "y1 = [1, 1, 1, -1, -1, -1]"
   ]
  },
  {
   "cell_type": "code",
   "execution_count": 8,
   "id": "f3b06927",
   "metadata": {},
   "outputs": [],
   "source": [
    "pc = Perceptron()"
   ]
  },
  {
   "cell_type": "code",
   "execution_count": 9,
   "id": "8ed1ba66",
   "metadata": {},
   "outputs": [
    {
     "data": {
      "text/plain": [
       "Perceptron()"
      ]
     },
     "execution_count": 9,
     "metadata": {},
     "output_type": "execute_result"
    }
   ],
   "source": [
    "pc.fit(X1, y1)"
   ]
  },
  {
   "cell_type": "code",
   "execution_count": 10,
   "id": "cc667bf0",
   "metadata": {},
   "outputs": [
    {
     "name": "stdout",
     "output_type": "stream",
     "text": [
      "학습된 퍼셉트론의 매개변수 :  [[-181.  466.]] [-3.]\n",
      "훈련집합에 대한 예측 :  [ 1  1  1 -1 -1 -1]\n",
      "정활률 측정 :  100.0 %\n"
     ]
    }
   ],
   "source": [
    "print('학습된 퍼셉트론의 매개변수 : ', pc.coef_, pc.intercept_)\n",
    "print('훈련집합에 대한 예측 : ', pc.predict(X1))\n",
    "print('정활률 측정 : ', pc.score(X1, y1)*100, '%')"
   ]
  },
  {
   "cell_type": "code",
   "execution_count": 16,
   "id": "fbffd761",
   "metadata": {},
   "outputs": [],
   "source": [
    "import matplotlib.pyplot as plt"
   ]
  },
  {
   "cell_type": "code",
   "execution_count": 19,
   "id": "0f579f1b",
   "metadata": {},
   "outputs": [
    {
     "data": {
      "text/plain": [
       "[<matplotlib.lines.Line2D at 0x1caaec2e248>,\n",
       " <matplotlib.lines.Line2D at 0x1caaec32f88>]"
      ]
     },
     "execution_count": 19,
     "metadata": {},
     "output_type": "execute_result"
    },
    {
     "data": {
      "image/png": "[encoded data removed]",
      "text/plain": [
       "<Figure size 432x288 with 1 Axes>"
      ]
     },
     "metadata": {
      "needs_background": "light"
     },
     "output_type": "display_data"
    }
   ],
   "source": [
    "plt.plot(X1)"
   ]
  },
  {
   "cell_type": "code",
   "execution_count": null,
   "id": "b433a09d",
   "metadata": {},
   "outputs": [],
   "source": []
  }
 ],
 "metadata": {
  "kernelspec": {
   "display_name": "silcream",
   "language": "python",
   "name": "silcream"
  },
  "language_info": {
   "codemirror_mode": {
    "name": "ipython",
    "version": 3
   },
   "file_extension": ".py",
   "mimetype": "text/x-python",
   "name": "python",
   "nbconvert_exporter": "python",
   "pygments_lexer": "ipython3",
   "version": "3.7.13"
  }
 },
 "nbformat": 4,
 "nbformat_minor": 5
}
