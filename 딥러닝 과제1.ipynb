{
 "cells": [
  {
   "cell_type": "code",
   "execution_count": 1,
   "id": "d1ff67c9",
   "metadata": {},
   "outputs": [],
   "source": [
    "import numpy as np\n",
    "import matplotlib.pyplot as plt\n",
    "\n",
    "x = 10  \n",
    "learning_rate = 0.2 #학습률\n",
    "tolerance = 0.00001  #손실함수 차이 최소값\n",
    "max_iterations = 100 #최대 횟수\n",
    "\n",
    "# 손실함수를 람다식으로 정의한다. \n",
    "loss_func = lambda x: (x-3)**2 + 10\n",
    "\n",
    "# 그래디언트를 람다식으로 정의한다. 손실함수의 1차 미분값이다. \n",
    "gradient = lambda x: 2*x-6\n",
    "\n",
    "list1 = []\n",
    "list2 = []\n"
   ]
  },
  {
   "cell_type": "code",
   "execution_count": 2,
   "id": "d670bcbf",
   "metadata": {},
   "outputs": [
    {
     "name": "stdout",
     "output_type": "stream",
     "text": [
      "손실함수값( 7.199999999999999 )= 27.639999999999993\n",
      "손실함수값( 5.52 )= 16.350399999999997\n",
      "손실함수값( 4.512 )= 12.286143999999998\n",
      "손실함수값( 3.9071999999999996 )= 10.82301184\n",
      "손실함수값( 3.54432 )= 10.2962842624\n",
      "손실함수값( 3.3265919999999998 )= 10.106662334464\n",
      "손실함수값( 3.1959551999999998 )= 10.03839844040704\n",
      "손실함수값( 3.11757312 )= 10.013823438546535\n",
      "손실함수값( 3.070543872 )= 10.004976437876753\n",
      "손실함수값( 3.0423263232 )= 10.001791517635631\n",
      "손실함수값( 3.02539579392 )= 10.000644946348826\n",
      "손실함수값( 3.015237476352 )= 10.000232180685577\n",
      "손실함수값( 3.0091424858112 )= 10.000083585046807\n",
      "손실함수값( 3.00548549148672 )= 10.000030090616852\n",
      "손실함수값( 3.003291294892032 )= 10.000010832622067\n",
      "최소값 =  3.0019747769352194\n"
     ]
    },
    {
     "data": {
      "text/plain": [
       "[<matplotlib.lines.Line2D at 0x22b8adfcb08>]"
      ]
     },
     "execution_count": 2,
     "metadata": {},
     "output_type": "execute_result"
    },
    {
     "data": {
      "image/png": "[encoded data removed]",
      "text/plain": [
       "<Figure size 432x288 with 1 Axes>"
      ]
     },
     "metadata": {
      "needs_background": "light"
     },
     "output_type": "display_data"
    }
   ],
   "source": [
    "# 그래디언트 강하법\n",
    "for i in range(max_iterations):\n",
    "    x = x - learning_rate * gradient(x) #경사 계산\n",
    "    list1.append(x) \n",
    "    list2.append(loss_func(x)) #tolerance 계산을 위해 list 안에 넣어줌\n",
    "    if i>1: #list -1은 젤 뒤로 가버려서 list0부터 빼주기\n",
    "        if (list2[i-1]-list2[i])<tolerance: #손실함수 차이 계산\n",
    "            break\n",
    "        \n",
    "    print(\"손실함수값(\", x, \")=\", loss_func(x))\n",
    "    \n",
    "\n",
    "print(\"최소값 = \", x)\n",
    "\n",
    "x1 = np.linspace(0.0, 10.0) #그래프 그리기\n",
    "y1 = loss_func(x1)\n",
    "fig, ax = plt.subplots() \n",
    "ax.plot(x1,y1)  \n",
    "ax.plot(list1,list2, '*') "
   ]
  },
  {
   "cell_type": "code",
   "execution_count": null,
   "id": "e607c0a2",
   "metadata": {},
   "outputs": [],
   "source": []
  },
  {
   "cell_type": "code",
   "execution_count": null,
   "id": "756095cb",
   "metadata": {},
   "outputs": [],
   "source": []
  }
 ],
 "metadata": {
  "kernelspec": {
   "display_name": "silcream",
   "language": "python",
   "name": "silcream"
  },
  "language_info": {
   "codemirror_mode": {
    "name": "ipython",
    "version": 3
   },
   "file_extension": ".py",
   "mimetype": "text/x-python",
   "name": "python",
   "nbconvert_exporter": "python",
   "pygments_lexer": "ipython3",
   "version": "3.7.13"
  }
 },
 "nbformat": 4,
 "nbformat_minor": 5
}
