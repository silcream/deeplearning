{
 "cells": [
  {
   "cell_type": "code",
   "execution_count": 1,
   "id": "427022ab",
   "metadata": {},
   "outputs": [],
   "source": [
    "from sklearn import datasets\n",
    "import matplotlib.pyplot as plt"
   ]
  },
  {
   "cell_type": "code",
   "execution_count": 8,
   "id": "6380b0be",
   "metadata": {},
   "outputs": [],
   "source": [
    "import numpy as np"
   ]
  },
  {
   "cell_type": "code",
   "execution_count": 9,
   "id": "1c79ca0b",
   "metadata": {},
   "outputs": [],
   "source": [
    "digit = datasets.load_digits()"
   ]
  },
  {
   "cell_type": "code",
   "execution_count": 11,
   "id": "442f5a21",
   "metadata": {},
   "outputs": [
    {
     "data": {
      "image/png": "[encoded data removed]",
      "text/plain": [
       "<Figure size 360x360 with 1 Axes>"
      ]
     },
     "metadata": {
      "needs_background": "light"
     },
     "output_type": "display_data"
    }
   ],
   "source": [
    "plt.figure(figsize = (5, 5))\n",
    "plt.imshow(digit.images[9], cmap = plt.cm.gray_r, interpolation = 'nearest')\n",
    "plt.show()"
   ]
  },
  {
   "cell_type": "code",
   "execution_count": 12,
   "id": "053d9701",
   "metadata": {},
   "outputs": [
    {
     "name": "stdout",
     "output_type": "stream",
     "text": [
      "[ 0.  0. 11. 12.  0.  0.  0.  0.  0.  2. 16. 16. 16. 13.  0.  0.  0.  3.\n",
      " 16. 12. 10. 14.  0.  0.  0.  1. 16.  1. 12. 15.  0.  0.  0.  0. 13. 16.\n",
      "  9. 15.  2.  0.  0.  0.  0.  3.  0.  9. 11.  0.  0.  0.  0.  0.  9. 15.\n",
      "  4.  0.  0.  0.  9. 12. 13.  3.  0.  0.]\n"
     ]
    }
   ],
   "source": [
    "print(digit.data[9])"
   ]
  },
  {
   "cell_type": "code",
   "execution_count": 13,
   "id": "8c226a8c",
   "metadata": {},
   "outputs": [
    {
     "name": "stdout",
     "output_type": "stream",
     "text": [
      "이 숫자는 0 입니다\n"
     ]
    }
   ],
   "source": [
    "print('이 숫자는', digit.target[0], '입니다')"
   ]
  },
  {
   "cell_type": "code",
   "execution_count": 14,
   "id": "b3c4da0a",
   "metadata": {},
   "outputs": [],
   "source": [
    "from sklearn import svm"
   ]
  },
  {
   "cell_type": "code",
   "execution_count": 15,
   "id": "fc3c6868",
   "metadata": {},
   "outputs": [],
   "source": [
    "s = svm.SVC(gamma = 0.1, C = 10)"
   ]
  },
  {
   "cell_type": "code",
   "execution_count": 16,
   "id": "4273e633",
   "metadata": {},
   "outputs": [
    {
     "data": {
      "text/plain": [
       "SVC(C=10, gamma=0.1)"
      ]
     },
     "execution_count": 16,
     "metadata": {},
     "output_type": "execute_result"
    }
   ],
   "source": [
    "s.fit(digit.data, digit.target)"
   ]
  },
  {
   "cell_type": "code",
   "execution_count": 17,
   "id": "890f3f30",
   "metadata": {},
   "outputs": [],
   "source": [
    "new = [digit.data[0], digit.data[2], digit.data[9]]\n",
    "res = s.predict(new)"
   ]
  },
  {
   "cell_type": "code",
   "execution_count": 18,
   "id": "6aba25cf",
   "metadata": {},
   "outputs": [
    {
     "name": "stdout",
     "output_type": "stream",
     "text": [
      "예측값은 :  [0 2 9]\n",
      "값은 0 2 9\n"
     ]
    }
   ],
   "source": [
    "print('예측값은 : ', res)\n",
    "print('값은', digit.target[0], digit.target[2], digit.target[9])"
   ]
  },
  {
   "cell_type": "code",
   "execution_count": 25,
   "id": "6a9d9080",
   "metadata": {},
   "outputs": [
    {
     "name": "stdout",
     "output_type": "stream",
     "text": [
      "화소 특징을 사용했을 때 정확률 =  100.0\n"
     ]
    }
   ],
   "source": [
    "res = s.predict(digit.data)\n",
    "correct = [i for i in range(len(res)) if res[i] == digit.target[i]]\n",
    "accuracy = len(correct)/len(res)\n",
    "print('화소 특징을 사용했을 때 정확률 = ', accuracy*100)"
   ]
  },
  {
   "cell_type": "code",
   "execution_count": null,
   "id": "89af1ff4",
   "metadata": {},
   "outputs": [],
   "source": []
  }
 ],
 "metadata": {
  "kernelspec": {
   "display_name": "silcream",
   "language": "python",
   "name": "silcream"
  },
  "language_info": {
   "codemirror_mode": {
    "name": "ipython",
    "version": 3
   },
   "file_extension": ".py",
   "mimetype": "text/x-python",
   "name": "python",
   "nbconvert_exporter": "python",
   "pygments_lexer": "ipython3",
   "version": "3.7.13"
  }
 },
 "nbformat": 4,
 "nbformat_minor": 5
}
