{
 "cells": [
  {
   "cell_type": "code",
   "execution_count": 7,
   "id": "13eb650b",
   "metadata": {},
   "outputs": [
    {
     "name": "stdout",
     "output_type": "stream",
     "text": [
      "Iteration 1, loss = 2.10651319\n",
      "Iteration 2, loss = 0.31365666\n",
      "Iteration 3, loss = 0.19874744\n",
      "Iteration 4, loss = 0.14815480\n",
      "Iteration 5, loss = 0.12450286\n",
      "Iteration 6, loss = 0.10436594\n",
      "Iteration 7, loss = 0.08567511\n",
      "Iteration 8, loss = 0.07590329\n",
      "Iteration 9, loss = 0.06901568\n",
      "Iteration 10, loss = 0.06061695\n",
      "Iteration 11, loss = 0.05432850\n",
      "Iteration 12, loss = 0.05018519\n",
      "Iteration 13, loss = 0.04583612\n",
      "Iteration 14, loss = 0.04229142\n",
      "Iteration 15, loss = 0.03981697\n",
      "Iteration 16, loss = 0.03632028\n",
      "Iteration 17, loss = 0.03399985\n",
      "Iteration 18, loss = 0.03197580\n",
      "Iteration 19, loss = 0.03046933\n",
      "Iteration 20, loss = 0.02842203\n",
      "Iteration 21, loss = 0.02714099\n",
      "Iteration 22, loss = 0.02622452\n",
      "Iteration 23, loss = 0.02434186\n",
      "Iteration 24, loss = 0.02331530\n",
      "Iteration 25, loss = 0.02298080\n",
      "Iteration 26, loss = 0.02186198\n",
      "Iteration 27, loss = 0.02090399\n",
      "Iteration 28, loss = 0.01978413\n",
      "Iteration 29, loss = 0.01951810\n",
      "Iteration 30, loss = 0.01888706\n",
      "Iteration 31, loss = 0.01804640\n",
      "Iteration 32, loss = 0.01727371\n",
      "Iteration 33, loss = 0.01737176\n",
      "Iteration 34, loss = 0.01644648\n",
      "Iteration 35, loss = 0.01574072\n",
      "Iteration 36, loss = 0.01551900\n",
      "Iteration 37, loss = 0.01492910\n",
      "Iteration 38, loss = 0.01537397\n",
      "Iteration 39, loss = 0.01419660\n",
      "Iteration 40, loss = 0.01372393\n",
      "Iteration 41, loss = 0.01352424\n",
      "Iteration 42, loss = 0.01338409\n",
      "Iteration 43, loss = 0.01297393\n",
      "Iteration 44, loss = 0.01231020\n",
      "Iteration 45, loss = 0.01177714\n",
      "Iteration 46, loss = 0.01156534\n",
      "Iteration 47, loss = 0.01179658\n",
      "Iteration 48, loss = 0.01145018\n",
      "Iteration 49, loss = 0.01105368\n",
      "Iteration 50, loss = 0.01057099\n",
      "Iteration 51, loss = 0.01045853\n",
      "Iteration 52, loss = 0.01024124\n",
      "Iteration 53, loss = 0.00982643\n",
      "Iteration 54, loss = 0.01017320\n",
      "Iteration 55, loss = 0.00954904\n",
      "Iteration 56, loss = 0.00936924\n",
      "Iteration 57, loss = 0.00935709\n",
      "Iteration 58, loss = 0.00911096\n",
      "Iteration 59, loss = 0.00904500\n",
      "Iteration 60, loss = 0.00887167\n",
      "Iteration 61, loss = 0.00861583\n",
      "Iteration 62, loss = 0.00849757\n",
      "Iteration 63, loss = 0.00831357\n",
      "Iteration 64, loss = 0.00825939\n",
      "Iteration 65, loss = 0.00801968\n",
      "Iteration 66, loss = 0.00798678\n",
      "Iteration 67, loss = 0.00773958\n",
      "Iteration 68, loss = 0.00777752\n",
      "Iteration 69, loss = 0.00744574\n",
      "Iteration 70, loss = 0.00745627\n",
      "Iteration 71, loss = 0.00731411\n",
      "Iteration 72, loss = 0.00730304\n",
      "Iteration 73, loss = 0.00717860\n",
      "Iteration 74, loss = 0.00716249\n",
      "Iteration 75, loss = 0.00705450\n",
      "Iteration 76, loss = 0.00681861\n",
      "Iteration 77, loss = 0.00670756\n",
      "Iteration 78, loss = 0.00671310\n",
      "Iteration 79, loss = 0.00656227\n",
      "Iteration 80, loss = 0.00643497\n",
      "Iteration 81, loss = 0.00647236\n",
      "Iteration 82, loss = 0.00627569\n",
      "Iteration 83, loss = 0.00618814\n",
      "Iteration 84, loss = 0.00609489\n",
      "Iteration 85, loss = 0.00621165\n",
      "Iteration 86, loss = 0.00603266\n",
      "Iteration 87, loss = 0.00585965\n",
      "Iteration 88, loss = 0.00579864\n",
      "Iteration 89, loss = 0.00576941\n",
      "Iteration 90, loss = 0.00568661\n",
      "Iteration 91, loss = 0.00560816\n",
      "Iteration 92, loss = 0.00558443\n",
      "Iteration 93, loss = 0.00552130\n",
      "Iteration 94, loss = 0.00539628\n",
      "Iteration 95, loss = 0.00544423\n",
      "Iteration 96, loss = 0.00535880\n",
      "Iteration 97, loss = 0.00531667\n",
      "Iteration 98, loss = 0.00526317\n",
      "Iteration 99, loss = 0.00517298\n",
      "Iteration 100, loss = 0.00510720\n",
      "Iteration 101, loss = 0.00505117\n",
      "Iteration 102, loss = 0.00510338\n",
      "Iteration 103, loss = 0.00493489\n",
      "Iteration 104, loss = 0.00490220\n",
      "Iteration 105, loss = 0.00480788\n",
      "Iteration 106, loss = 0.00481876\n",
      "Iteration 107, loss = 0.00475323\n",
      "Iteration 108, loss = 0.00467473\n",
      "Iteration 109, loss = 0.00463376\n",
      "Iteration 110, loss = 0.00457468\n",
      "Iteration 111, loss = 0.00458357\n",
      "Iteration 112, loss = 0.00457595\n",
      "Iteration 113, loss = 0.00449909\n",
      "Iteration 114, loss = 0.00443684\n",
      "Training loss did not improve more than tol=0.000100 for 10 consecutive epochs. Stopping.\n"
     ]
    }
   ],
   "source": [
    "from sklearn import datasets\n",
    "from sklearn.neural_network import MLPClassifier\n",
    "from sklearn.model_selection import train_test_split\n",
    "import numpy as np\n",
    "from sklearn.metrics import accuracy_score\n",
    "# 데이터셋을 읽고 훈련 집합과 테스트 집합으로 분할\n",
    "digit=datasets.load_digits()\n",
    "x_train,x_test,y_train,y_test=train_test_split(digit.data,digit.target,train_size=0.6)\n",
    "\n",
    "# MLP 분류기 모델을 학습\n",
    "mlp=MLPClassifier(hidden_layer_sizes=(100),learning_rate_init=0.001,batch_size=32,max_iter=300,solver='sgd',verbose=True)\n",
    "mlp.fit(x_train,y_train)\n",
    "\n",
    "res=mlp.predict(x_test) # 테스트 집합으로 예측\n",
    "\n",
    "\n",
    "\n"
   ]
  },
  {
   "cell_type": "code",
   "execution_count": 8,
   "id": "1702dd90",
   "metadata": {},
   "outputs": [
    {
     "data": {
      "text/plain": [
       "0.9652294853963839"
      ]
     },
     "execution_count": 8,
     "metadata": {},
     "output_type": "execute_result"
    }
   ],
   "source": [
    "accuracy_score(y_test, res)"
   ]
  },
  {
   "cell_type": "code",
   "execution_count": 2,
   "id": "a10d232d",
   "metadata": {},
   "outputs": [
    {
     "name": "stdout",
     "output_type": "stream",
     "text": [
      "719\n"
     ]
    }
   ],
   "source": [
    "print(len(res))"
   ]
  },
  {
   "cell_type": "code",
   "execution_count": 3,
   "id": "d0ad2d76",
   "metadata": {},
   "outputs": [
    {
     "name": "stdout",
     "output_type": "stream",
     "text": [
      "[2 9 0 3 4 9 3 0 2 6 5 5 5 1 7 1 6 4 2 1 0 8 2 4 7 9 2 0 0 3 2 6 6 4 4 6 8\n",
      " 7 8 1 1 5 6 8 8 9 5 4 1 4 8 8 3 6 6 5 3 1 9 1 6 7 0 2 4 0 9 2 1 7 8 6 9 2\n",
      " 4 9 5 9 7 3 6 6 4 6 2 2 0 4 3 0 6 6 8 5 7 6 4 7 4 6 2 6 1 6 2 2 6 8 0 4 3\n",
      " 7 0 2 9 6 6 1 6 8 7 1 2 3 9 7 4 6 8 8 0 1 7 9 6 0 2 0 9 5 0 7 5 3 0 9 9 4\n",
      " 2 2 1 1 8 3 1 1 0 5 0 9 0 3 4 6 3 5 6 5 9 6 9 6 4 5 6 6 0 1 2 9 6 9 5 6 7\n",
      " 9 0 0 4 5 8 0 7 4 4 1 0 9 3 0 1 2 9 8 0 2 2 2 7 7 4 2 8 9 9 1 0 4 4 1 9 2\n",
      " 2 0 0 2 2 2 1 1 1 8 6 6 2 8 9 2 0 1 7 7 3 4 4 6 8 3 0 4 7 3 3 8 2 9 3 9 1\n",
      " 2 5 1 0 1 4 8 3 5 7 2 1 8 9 3 7 1 2 6 0 5 0 8 5 5 9 7 7 7 4 4 4 9 4 3 6 8\n",
      " 3 0 9 8 5 3 3 0 2 4 9 5 3 8 9 9 3 7 3 7 4 2 3 2 7 6 1 9 0 3 0 9 8 5 9 7 5\n",
      " 9 1 9 8 1 1 4 5 5 4 0 9 8 7 1 3 5 2 2 8 7 2 3 6 6 5 6 2 3 8 4 8 5 5 2 6 0\n",
      " 5 9 1 4 6 0 9 1 2 0 0 5 1 9 2 9 4 7 1 2 3 1 7 7 8 3 6 9 0 7 4 3 6 9 2 3 5\n",
      " 6 7 1 8 7 9 8 3 4 1 6 3 9 3 4 2 9 8 8 7 2 4 3 0 7 9 6 1 6 4 5 3 4 7 8 1 4\n",
      " 8 8 2 9 2 2 1 0 9 1 5 1 2 9 0 6 8 1 6 6 6 3 9 3 3 3 5 7 7 9 3 1 8 7 4 1 7\n",
      " 7 3 9 2 3 9 1 7 4 4 2 9 7 4 1 7 5 3 9 3 6 2 9 9 5 0 1 0 5 9 0 1 3 7 7 8 3\n",
      " 5 1 9 9 7 3 1 4 5 1 6 0 0 1 0 3 6 4 7 8 4 6 6 4 7 8 8 4 6 8 7 5 9 6 9 8 0\n",
      " 0 7 7 6 4 2 9 5 4 1 4 2 8 5 3 7 2 7 9 5 8 5 0 2 1 1 9 5 7 9 1 2 9 2 5 3 5\n",
      " 3 3 6 6 6 0 4 6 5 5 7 1 8 4 7 8 8 0 8 6 9 6 1 8 1 5 8 7 5 4 9 4 3 1 3 5 9\n",
      " 6 5 0 3 6 1 5 3 4 6 8 3 8 7 2 5 6 1 6 0 7 0 2 1 9 2 0 1 6 9 4 9 8 9 4 3 9\n",
      " 2 0 9 2 7 7 6 7 2 9 8 0 6 8 1 1 0 9 3 8 7 9 8 4 0 4 5 3 7 1 6 1 9 6 0 1 5\n",
      " 4 6 0 1 0 3 3 8 0 2 2 9 3 1 2 7]\n"
     ]
    }
   ],
   "source": [
    "print(res)"
   ]
  },
  {
   "cell_type": "code",
   "execution_count": null,
   "id": "d2709b84",
   "metadata": {},
   "outputs": [],
   "source": []
  },
  {
   "cell_type": "code",
   "execution_count": 4,
   "id": "bcc12691",
   "metadata": {
    "scrolled": true
   },
   "outputs": [
    {
     "data": {
      "text/plain": [
       "array([2, 9, 0, 3, 4, 9, 3, 0, 2, 6, 5, 5, 5, 1, 7, 1, 6, 4, 2, 1, 0, 8,\n",
       "       2, 4, 7, 9, 2, 0, 0, 3, 2, 6, 6, 4, 7, 6, 8, 7, 9, 1, 1, 5, 6, 8,\n",
       "       8, 9, 5, 4, 1, 4, 8, 8, 3, 6, 6, 5, 3, 8, 9, 1, 6, 7, 0, 2, 4, 0,\n",
       "       8, 2, 1, 7, 8, 6, 9, 2, 4, 9, 5, 9, 7, 3, 6, 6, 4, 6, 2, 2, 0, 4,\n",
       "       3, 0, 6, 6, 8, 5, 7, 6, 4, 7, 4, 5, 2, 6, 1, 6, 2, 2, 6, 8, 0, 4,\n",
       "       3, 7, 0, 2, 9, 6, 6, 1, 6, 8, 7, 1, 2, 3, 9, 7, 4, 6, 8, 8, 0, 1,\n",
       "       7, 9, 6, 0, 2, 0, 9, 5, 0, 7, 5, 3, 0, 9, 9, 4, 2, 2, 1, 1, 8, 3,\n",
       "       8, 1, 0, 5, 0, 9, 0, 3, 4, 6, 3, 5, 6, 3, 9, 6, 9, 6, 4, 5, 6, 6,\n",
       "       0, 1, 2, 9, 6, 9, 5, 6, 7, 9, 0, 0, 4, 5, 8, 0, 7, 4, 4, 1, 0, 9,\n",
       "       3, 0, 1, 2, 9, 8, 0, 2, 2, 2, 7, 7, 4, 2, 8, 9, 9, 1, 0, 4, 4, 1,\n",
       "       9, 2, 2, 0, 0, 2, 2, 2, 1, 1, 1, 8, 6, 6, 2, 8, 9, 2, 0, 1, 7, 7,\n",
       "       3, 4, 4, 6, 8, 3, 0, 4, 7, 3, 3, 8, 2, 9, 3, 9, 1, 2, 5, 1, 0, 1,\n",
       "       4, 8, 3, 5, 7, 2, 1, 3, 9, 7, 7, 1, 2, 6, 0, 5, 0, 8, 5, 5, 9, 7,\n",
       "       7, 7, 4, 4, 4, 9, 4, 3, 6, 8, 3, 0, 8, 8, 5, 3, 3, 0, 2, 4, 9, 5,\n",
       "       3, 8, 9, 9, 3, 7, 3, 7, 4, 2, 3, 2, 7, 6, 1, 9, 0, 3, 0, 9, 8, 5,\n",
       "       9, 7, 5, 9, 1, 9, 8, 1, 1, 4, 5, 5, 4, 0, 9, 8, 7, 8, 3, 5, 3, 2,\n",
       "       8, 7, 2, 3, 6, 6, 5, 6, 2, 3, 8, 4, 8, 5, 5, 2, 6, 0, 5, 9, 8, 4,\n",
       "       6, 0, 9, 1, 2, 0, 0, 5, 1, 9, 2, 7, 4, 7, 1, 2, 3, 1, 7, 7, 8, 3,\n",
       "       6, 9, 0, 7, 4, 3, 6, 9, 2, 3, 5, 6, 7, 1, 8, 7, 9, 8, 3, 4, 1, 6,\n",
       "       3, 9, 3, 4, 2, 9, 8, 8, 7, 2, 4, 3, 0, 7, 9, 6, 1, 6, 4, 5, 3, 4,\n",
       "       7, 8, 1, 4, 9, 8, 2, 9, 2, 2, 1, 8, 9, 1, 5, 1, 2, 9, 0, 6, 8, 1,\n",
       "       6, 6, 6, 3, 9, 3, 3, 3, 5, 7, 7, 9, 3, 1, 8, 7, 4, 1, 7, 7, 3, 8,\n",
       "       2, 3, 9, 1, 7, 4, 4, 2, 9, 7, 4, 1, 7, 5, 3, 9, 3, 6, 2, 9, 9, 5,\n",
       "       0, 1, 0, 5, 9, 0, 1, 3, 7, 7, 8, 3, 5, 2, 9, 9, 7, 3, 1, 4, 5, 8,\n",
       "       6, 0, 0, 1, 0, 3, 6, 4, 7, 8, 4, 6, 6, 4, 8, 8, 8, 4, 6, 8, 7, 5,\n",
       "       9, 6, 9, 3, 0, 0, 7, 7, 6, 4, 2, 9, 5, 4, 1, 4, 2, 8, 9, 3, 7, 2,\n",
       "       7, 1, 5, 8, 5, 0, 2, 1, 1, 9, 5, 7, 5, 1, 2, 9, 2, 8, 3, 5, 3, 3,\n",
       "       6, 6, 6, 0, 4, 6, 5, 5, 7, 1, 8, 4, 7, 8, 8, 0, 8, 6, 7, 6, 1, 8,\n",
       "       1, 5, 8, 7, 6, 5, 9, 4, 3, 2, 3, 5, 9, 6, 8, 0, 3, 6, 1, 5, 3, 4,\n",
       "       6, 8, 3, 8, 7, 2, 5, 6, 1, 6, 0, 7, 0, 2, 1, 9, 2, 0, 1, 6, 9, 4,\n",
       "       9, 8, 9, 4, 3, 9, 2, 0, 9, 2, 7, 7, 6, 7, 2, 9, 8, 0, 6, 8, 1, 1,\n",
       "       0, 9, 3, 8, 7, 9, 8, 4, 0, 4, 5, 3, 7, 1, 6, 1, 9, 6, 0, 2, 5, 4,\n",
       "       6, 0, 8, 0, 3, 3, 8, 0, 2, 2, 9, 3, 1, 2, 7])"
      ]
     },
     "execution_count": 4,
     "metadata": {},
     "output_type": "execute_result"
    }
   ],
   "source": [
    "y_test"
   ]
  },
  {
   "cell_type": "code",
   "execution_count": 5,
   "id": "3fed0dc1",
   "metadata": {},
   "outputs": [
    {
     "name": "stdout",
     "output_type": "stream",
     "text": [
      "[[69.  0.  0.  0.  0.  0.  0.  0.  1.  0.]\n",
      " [ 0. 69.  3.  0.  0.  0.  0.  0.  6.  0.]\n",
      " [ 0.  0. 71.  1.  0.  0.  0.  0.  0.  0.]\n",
      " [ 0.  0.  0. 69.  0.  0.  0.  1.  0.  0.]\n",
      " [ 0.  0.  0.  0. 66.  1.  0.  1.  0.  0.]\n",
      " [ 0.  0.  0.  1.  0. 55.  1.  0.  2.  1.]\n",
      " [ 0.  0.  0.  0.  0.  1. 78.  0.  0.  0.]\n",
      " [ 0.  0.  0.  0.  0.  0.  0. 69.  1.  0.]\n",
      " [ 0.  0.  0.  2.  0.  0.  0.  0. 61.  2.]\n",
      " [ 0.  1.  0.  0.  0.  1.  0.  2.  3. 80.]]\n"
     ]
    }
   ],
   "source": [
    "# 혼동 행렬\n",
    "conf=np.zeros((10,10))\n",
    "for i in range(len(res)):\n",
    "    conf[res[i]][y_test[i]]+=1\n",
    "print(conf)"
   ]
  },
  {
   "cell_type": "code",
   "execution_count": 6,
   "id": "2289f0f1",
   "metadata": {},
   "outputs": [
    {
     "name": "stdout",
     "output_type": "stream",
     "text": [
      "테스트 집합에 대한 정확률은  95.54937413073714 %입니다.\n"
     ]
    }
   ],
   "source": [
    "\n",
    "# 정확률 계산\n",
    "no_correct=0\n",
    "for i in range(10):\n",
    "    no_correct+=conf[i][i]\n",
    "accuracy=no_correct/len(res)\n",
    "print(\"테스트 집합에 대한 정확률은 \", accuracy*100, \"%입니다.\")"
   ]
  },
  {
   "cell_type": "markdown",
   "id": "757a5c2a",
   "metadata": {},
   "source": [
    "np.zeros((10,10))"
   ]
  },
  {
   "cell_type": "code",
   "execution_count": 13,
   "id": "48028fff",
   "metadata": {},
   "outputs": [
    {
     "name": "stdout",
     "output_type": "stream",
     "text": [
      "Iteration 1, loss = 0.68879110\n",
      "Iteration 2, loss = 0.29905306\n",
      "Iteration 3, loss = 0.24354250\n",
      "Iteration 4, loss = 0.20602970\n",
      "Iteration 5, loss = 0.17947249\n",
      "Iteration 6, loss = 0.15825350\n",
      "Iteration 7, loss = 0.14063362\n",
      "Iteration 8, loss = 0.12762656\n",
      "Iteration 9, loss = 0.11549347\n",
      "Iteration 10, loss = 0.10439078\n",
      "Iteration 11, loss = 0.09519804\n",
      "Iteration 12, loss = 0.08734581\n",
      "Iteration 13, loss = 0.08069116\n",
      "Iteration 14, loss = 0.07335311\n",
      "Iteration 15, loss = 0.06828760\n",
      "Iteration 16, loss = 0.06305590\n",
      "Iteration 17, loss = 0.05866784\n",
      "Iteration 18, loss = 0.05401853\n",
      "Iteration 19, loss = 0.05043201\n",
      "Iteration 20, loss = 0.04665998\n",
      "Iteration 21, loss = 0.04332546\n",
      "Iteration 22, loss = 0.03990137\n",
      "Iteration 23, loss = 0.03792613\n",
      "Iteration 24, loss = 0.03506352\n",
      "Iteration 25, loss = 0.03261921\n",
      "Iteration 26, loss = 0.03049883\n",
      "Iteration 27, loss = 0.02829845\n",
      "Iteration 28, loss = 0.02687868\n",
      "Iteration 29, loss = 0.02514932\n",
      "Iteration 30, loss = 0.02345006\n",
      "Iteration 31, loss = 0.02136543\n",
      "Iteration 32, loss = 0.02029915\n",
      "Iteration 33, loss = 0.01884222\n",
      "Iteration 34, loss = 0.01741705\n",
      "Iteration 35, loss = 0.01649091\n",
      "Iteration 36, loss = 0.01540803\n",
      "Iteration 37, loss = 0.01457203\n",
      "Iteration 38, loss = 0.01373827\n",
      "Iteration 39, loss = 0.01254934\n",
      "Iteration 40, loss = 0.01190319\n",
      "Iteration 41, loss = 0.01113228\n",
      "Iteration 42, loss = 0.01040646\n",
      "Iteration 43, loss = 0.00955918\n",
      "Iteration 44, loss = 0.00874922\n",
      "Iteration 45, loss = 0.00839461\n",
      "Iteration 46, loss = 0.00831912\n",
      "Iteration 47, loss = 0.00752124\n",
      "Iteration 48, loss = 0.00717271\n",
      "Iteration 49, loss = 0.00633569\n",
      "Iteration 50, loss = 0.00624088\n",
      "Iteration 51, loss = 0.00563681\n",
      "Iteration 52, loss = 0.00520461\n",
      "Iteration 53, loss = 0.00513345\n",
      "Iteration 54, loss = 0.00472269\n",
      "Iteration 55, loss = 0.00434971\n",
      "Iteration 56, loss = 0.00411498\n",
      "Iteration 57, loss = 0.00389720\n",
      "Iteration 58, loss = 0.00369012\n",
      "Iteration 59, loss = 0.00347136\n",
      "Iteration 60, loss = 0.00320198\n",
      "Iteration 61, loss = 0.00306218\n",
      "Iteration 62, loss = 0.00298546\n",
      "Iteration 63, loss = 0.00278696\n",
      "Iteration 64, loss = 0.00255053\n",
      "Iteration 65, loss = 0.00242655\n",
      "Iteration 66, loss = 0.00228430\n",
      "Iteration 67, loss = 0.00219765\n",
      "Iteration 68, loss = 0.00212350\n",
      "Iteration 69, loss = 0.00192915\n",
      "Iteration 70, loss = 0.00190576\n",
      "Iteration 71, loss = 0.00177807\n",
      "Iteration 72, loss = 0.00171965\n",
      "Iteration 73, loss = 0.00163607\n",
      "Iteration 74, loss = 0.00150272\n",
      "Iteration 75, loss = 0.00143208\n",
      "Iteration 76, loss = 0.00138848\n",
      "Iteration 77, loss = 0.00130072\n",
      "Iteration 78, loss = 0.00125888\n",
      "Iteration 79, loss = 0.00123069\n",
      "Iteration 80, loss = 0.00120510\n",
      "Iteration 81, loss = 0.00111003\n",
      "Iteration 82, loss = 0.00106690\n",
      "Iteration 83, loss = 0.00103296\n",
      "Iteration 84, loss = 0.00100117\n",
      "Iteration 85, loss = 0.00096001\n",
      "Training loss did not improve more than tol=0.000100 for 10 consecutive epochs. Stopping.\n",
      "[[516   0   3   0   1   2   0   0   0   1]\n",
      " [  1 560   0   0   0   0   0   1   1   0]\n",
      " [  0   0 492   1   1   0   1   4   1   0]\n",
      " [  0   0   1 500   0   2   1   0   1   0]\n",
      " [  0   0   0   0 472   0   3   0   3   1]\n",
      " [  0   1   0   0   0 426   0   0   1   0]\n",
      " [  1   2   0   0   0   3 491   0   1   0]\n",
      " [  2   0   2   1   3   0   0 509   1   1]\n",
      " [  0   1   4   5   1   1   0   0 475   1]\n",
      " [  0   0   0   3   4   2   0   2   1 485]]\n",
      "테스트 집합에 대한 정확률은 98.52 %입니다.\n"
     ]
    }
   ],
   "source": [
    "from sklearn.datasets import fetch_openml\n",
    "from sklearn.neural_network import MLPClassifier\n",
    "import matplotlib.pyplot as plt\n",
    "import numpy as np\n",
    "\n",
    "# MNIST 데이터셋을 읽고 훈련 집합과 테스트 집합으로 분할\n",
    "mnist=fetch_openml('mnist_784')\n",
    "mnist.data=mnist.data/255.0 #데이터 픽셀이라 그림 255f로 나눔\n",
    "x_train=mnist.data[:50000]; x_test=mnist.data[65000:] #데이터 55000까지만 train 70000이후로는 test\n",
    "y_train=np.int16(mnist.target[:50000]); y_test=np.int16(mnist.target[65000:])\n",
    "\n",
    "# MLP 분류기 모델을 학습\n",
    "mlp=MLPClassifier(hidden_layer_sizes=(100),learning_rate_init=0.001,batch_size=512,max_iter=300,solver='adam',verbose=True)\n",
    "mlp.fit(x_train,y_train)  #레이어 크기 100 학습률 0.001 배치사이즈 512 최대 300번까지 adam 기법 사용\n",
    "\n",
    "# 테스트 집합으로 예측\n",
    "res=mlp.predict(x_test) # 예측을 res에 저장해줌\n",
    "\n",
    "# 혼동 행렬\n",
    "conf=np.zeros((10,10),dtype=np.int16) #빈 행렬 만듦 10*10이고 다 0으로 채워져 잇음\n",
    "for i in range(len(res)):\n",
    "    conf[res[i]][y_test[i]]+=1\n",
    "print(conf)\n",
    "\n",
    "'''res[0]은 7임 print해보면 7라고 되어 있음\n",
    "y_test[0]도 7임 \n",
    "conf[7][7]는 0임 conf[7][7] = 0+1\n",
    "conf[7][7]자리에 1을 넣겠다는 거임\n",
    "\n",
    "이걸 len(res)만큼 반복'''\n",
    "\n",
    "# 정확률 계산\n",
    "no_correct=0\n",
    "for i in range(10):\n",
    "    no_correct+=conf[i][i] #대각선끼리 더해줌\n",
    "accuracy=no_correct/len(res) #정확도 구해주기\n",
    "print(\"테스트 집합에 대한 정확률은\", accuracy*100, \"%입니다.\")"
   ]
  },
  {
   "cell_type": "code",
   "execution_count": 10,
   "id": "c536f9b2",
   "metadata": {},
   "outputs": [
    {
     "name": "stdout",
     "output_type": "stream",
     "text": [
      "[7 2 1 ... 4 5 6]\n"
     ]
    }
   ],
   "source": [
    "print(res)"
   ]
  },
  {
   "cell_type": "code",
   "execution_count": 11,
   "id": "7d228a64",
   "metadata": {},
   "outputs": [
    {
     "name": "stdout",
     "output_type": "stream",
     "text": [
      "[7 2 1 ... 4 5 6]\n"
     ]
    }
   ],
   "source": [
    "print(y_test)"
   ]
  },
  {
   "cell_type": "code",
   "execution_count": 15,
   "id": "16ea6bf4",
   "metadata": {},
   "outputs": [
    {
     "name": "stdout",
     "output_type": "stream",
     "text": [
      "하이퍼 매개변수 최적화에 걸린 시간은 87.35899353027344 초입니다.\n"
     ]
    },
    {
     "data": {
      "image/png": "[encoded data removed]",
      "text/plain": [
       "<Figure size 432x288 with 1 Axes>"
      ]
     },
     "metadata": {
      "needs_background": "light"
     },
     "output_type": "display_data"
    },
    {
     "name": "stdout",
     "output_type": "stream",
     "text": [
      "\n",
      "최적의 은닉층의 노드 개수는 1000 개입니다.\n",
      "\n",
      "[[69.  0.  0.  0.  0.  1.  0.  0.  0.  0.]\n",
      " [ 0. 73.  0.  0.  0.  1.  0.  0.  1.  0.]\n",
      " [ 0.  0. 66.  0.  0.  0.  0.  0.  0.  0.]\n",
      " [ 0.  0.  0. 71.  0.  0.  0.  0.  0.  1.]\n",
      " [ 0.  0.  0.  0. 68.  0.  0.  0.  0.  0.]\n",
      " [ 0.  1.  0.  0.  0. 69.  1.  0.  1.  1.]\n",
      " [ 0.  0.  0.  0.  0.  0. 67.  0.  0.  0.]\n",
      " [ 0.  0.  0.  0.  1.  0.  0. 69.  1.  0.]\n",
      " [ 0.  1.  0.  0.  0.  0.  0.  1. 76.  0.]\n",
      " [ 0.  0.  0.  0.  1.  1.  0.  1.  0. 76.]]\n",
      "테스트 집합에 대한 정확률은 97.91376912378304 %입니다.\n"
     ]
    }
   ],
   "source": [
    "from sklearn import datasets\n",
    "from sklearn.neural_network import MLPClassifier\n",
    "from sklearn.model_selection import train_test_split,validation_curve\n",
    "import numpy as np\n",
    "import matplotlib.pyplot as plt\n",
    "import time\n",
    "\n",
    "# 데이터셋을 읽고 훈련 집합과 테스트 집합으로 분할\n",
    "digit=datasets.load_digits()\n",
    "x_train,x_test,y_train,y_test=train_test_split(digit.data,digit.target,train_size=0.6)\n",
    "\n",
    "# 다층 퍼셉트론을 교차 검증으로 성능 평가 (소요 시간 측정 포함)\n",
    "start=time.time() # 시작 시각\n",
    "mlp=MLPClassifier(hidden_layer_sizes=900, learning_rate_init=0.001,batch_size=32,max_iter=300,solver='sgd')\n",
    "prange=range(50,1001,50)\n",
    "train_score,test_score=validation_curve(mlp,x_train,y_train,param_name=\"hidden_layer_sizes\",param_range=prange,cv=10,scoring=\"accuracy\",n_jobs=4)\n",
    "end=time.time() # 끝난 시각\n",
    "print(\"하이퍼 매개변수 최적화에 걸린 시간은\",end-start,\"초입니다.\")\n",
    "\n",
    "# 교차 검증 결과의 평균과 분산 구하기\n",
    "train_mean = np.mean(train_score,axis=1)\n",
    "train_std = np.std(train_score,axis=1)\n",
    "test_mean = np.mean(test_score,axis=1)\n",
    "test_std = np.std(test_score,axis=1)\n",
    "\n",
    "# 성능 그래프 그리기\n",
    "plt.plot(prange,train_mean,label=\"Train score\",color=\"r\")\n",
    "plt.plot(prange,test_mean,label=\"Test score\",color=\"b\")\n",
    "plt.fill_between(prange,train_mean-train_std,train_mean+train_std,alpha=0.2,color=\"r\")\n",
    "plt.fill_between(prange,test_mean-test_std,test_mean+test_std,alpha=0.2,color=\"b\")\n",
    "plt.legend(loc=\"best\")\n",
    "plt.title(\"Validation Curve with MLP\")\n",
    "plt.xlabel(\"Number of hidden nodes\"); plt.ylabel(\"Accuracy\")\n",
    "plt.ylim(0.9,1.01)\n",
    "plt.grid(axis='both')\n",
    "plt.show()\n",
    "\n",
    "best_number_nodes=prange[np.argmax(test_mean)] # 최적의 은닉 노드 개수\n",
    "print(\"\\n최적의 은닉층의 노드 개수는\",best_number_nodes,\"개입니다.\\n\")\n",
    "\n",
    "# 최적의 은닉 노드 개수로 모델링\n",
    "mlp_test=MLPClassifier(hidden_layer_sizes=(best_number_nodes),learning_rate_init=0.001,batch_size=32,max_iter=300,solver='sgd')\n",
    "mlp_test.fit(x_train,y_train)\n",
    "\n",
    "# 테스트 집합으로 예측\n",
    "res=mlp_test.predict(x_test)\n",
    "\n",
    "# 혼동 행렬\n",
    "conf=np.zeros((10,10))\n",
    "for i in range(len(res)):\n",
    "    conf[res[i]][y_test[i]]+=1\n",
    "print(conf)\n",
    "\n",
    "# 정확률 계산\n",
    "no_correct=0\n",
    "for i in range(10):\n",
    "    no_correct+=conf[i][i]\n",
    "accuracy=no_correct/len(res)\n",
    "print(\"테스트 집합에 대한 정확률은\", accuracy*100, \"%입니다.\")"
   ]
  },
  {
   "cell_type": "code",
   "execution_count": null,
   "id": "a69eb090",
   "metadata": {},
   "outputs": [],
   "source": []
  }
 ],
 "metadata": {
  "kernelspec": {
   "display_name": "silcream",
   "language": "python",
   "name": "silcream"
  },
  "language_info": {
   "codemirror_mode": {
    "name": "ipython",
    "version": 3
   },
   "file_extension": ".py",
   "mimetype": "text/x-python",
   "name": "python",
   "nbconvert_exporter": "python",
   "pygments_lexer": "ipython3",
   "version": "3.7.13"
  }
 },
 "nbformat": 4,
 "nbformat_minor": 5
}
